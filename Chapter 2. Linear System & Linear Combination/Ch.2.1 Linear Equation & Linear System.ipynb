{
 "cells": [
  {
   "cell_type": "markdown",
   "metadata": {},
   "source": [
    "# Chapter 2.1. 선형방정식 및 선형시스템\n",
    "* 선형방정식(Linear Equation)과 선형시스템(Linear System)\n",
    "* 단위행렬(Identity Matrix)와 역행렬(Inverse Matrix)"
   ]
  },
  {
   "cell_type": "code",
   "execution_count": 2,
   "metadata": {},
   "outputs": [],
   "source": [
    "import numpy as np"
   ]
  },
  {
   "cell_type": "markdown",
   "metadata": {},
   "source": [
    "## 2.1.1.  선형방정식(Linear Equation)\n",
    "* $x_1, x_2, \\cdots, x_n$을 변수로 가진 선형방정식은 다음과 같은 형태로 나타냄 $$ a_1x_1 + a_2x_2 + \\cdots + a_nx_n = b$$\n",
    "$b$ 와 coefficients $a_1, a_2, \\cdots, a_n$는 실수 혹은 복소수\n",
    "* 위의 방정식은 다음과 같이 나타낼 수 있음  \n",
    "$$\\mathbf{a}^T\\mathbf{x} = \\mathbf{b}$$  \n",
    "$$where,\\mathbf{a} = \\begin{bmatrix} a_1 \\\\ a_2 \\\\ \\vdots \\\\ a_n \\end{bmatrix}, \\mathbf{x} = \\begin{bmatrix} x_1 \\\\ x_2 \\\\ \\vdots \\\\ x_n \\end{bmatrix}.$$"
   ]
  },
  {
   "cell_type": "markdown",
   "metadata": {},
   "source": [
    "## 2.1.2. 선형시스템(Linear System)\n",
    "* 선형시스템은 선형방정식들의 집합(연립방정식)\n",
    "* 선형시스템의 예 :\n",
    "    \n",
    "    \n",
    "    1. 데이터    \n",
    "PearsonID | Weight | Height | Is_smoking | Life-span\n",
    "----------|--------|--------|------------|----------\n",
    "1         |60kg    |5.5ft   |Yes (=1)    |66\n",
    "2         |65kg    |5.0ft   |No (=0)     |74\n",
    "3         |55kg    |6.0ft   |Yes (=1)    |78  \n",
    "\n",
    "    2. 선형 시스템 set up\n",
    "$$60x_1 + 5.5x_2 + 1 \\cdot x_3 = 66$$ $$65x_1 + 5.0x_2 + 0 \\cdot x_3 = 74$$ $$55x_1 + 6.0x_2 + 1 \\cdot x_3 = 78$$\n",
    "\n",
    "    3. 선형 시스템의  모든 coefficients를 matrix로 구성\n",
    "$$\\mathbf{A} = \\begin{bmatrix} 60 & 5.5 & 1 \\\\ 65 & 5.0 & 0 \\\\ 55 & 6.0 & 1 \\end{bmatrix}$$\n",
    "\n",
    "    4. 타겟 vector와 가중치 vector 구성\n",
    "$$\\mathbf{x} = \\begin{bmatrix} x_1 \\\\ x_2 \\\\ x_3 \\end{bmatrix}, \\mathbf{b} = \\begin{bmatrix} 66 \\\\ 74 \\\\ 78 \\end{bmatrix}$$\n",
    "\n",
    "    5. 하나의 matrix equation으로 변환\n",
    "$$\\begin{bmatrix} 60 & 5.5 & 1 \\\\ 65 & 5.0 & 0 \\\\ 55 & 6.0 & 1 \\end{bmatrix}\\begin{bmatrix} x_1 \\\\ x_2 \\\\ x_3 \\end{bmatrix} = \\begin{bmatrix} 66 \\\\ 74 \\\\ 78 \\end{bmatrix}$$\n",
    "$$\\mathbf{A} \\mathbf{x} = \\mathbf{b}$$\n"
   ]
  },
  {
   "cell_type": "markdown",
   "metadata": {},
   "source": [
    "## 2.1.3. 단위행렬/항등행렬(Identity Matrix)\n",
    "* 주대각선이 전부 1이고 나머지 요소는 0을 값으로 갖는 $n \\times n$ 정방행렬(square matrix), $I_n = \\mathbb{R}^n$\n",
    "* e.g., $ I_3 = \\begin{bmatrix} 1 & 0 & 0 \\\\ 0 & 1 & 0 \\\\ 0 & 0 & 1 \\end{bmatrix}$\n",
    "* $AI_n = I_nA = A$"
   ]
  },
  {
   "cell_type": "code",
   "execution_count": 3,
   "metadata": {},
   "outputs": [
    {
     "name": "stdout",
     "output_type": "stream",
     "text": [
      "[[1. 0. 0.]\n",
      " [0. 1. 0.]\n",
      " [0. 0. 1.]]\n"
     ]
    }
   ],
   "source": [
    "print(np.identity(3))"
   ]
  },
  {
   "cell_type": "markdown",
   "metadata": {},
   "source": [
    "## 2.1.4. 역행렬(Inverse Matrix)\n",
    "* 정방행렬(square matrix) $A \\in \\mathbb{R}^{n\\times n}$에 대하여, 역행렬 $A^{-1}$은 다음과 같이 정의됨\n",
    "$$A^{-1}A = AA^{-1} = I_n$$\n",
    "* $2 \\times 2$ 행렬 $A = \\begin{bmatrix} a & b \\\\ c & d \\end{bmatrix}$에 대하여, 역행렬 $A^{-1}$은\n",
    "$$A^{-1} = \\frac{1}{ad-bc} \\begin{bmatrix} d & -b \\\\ -c & a \\end{bmatrix}$$\n",
    "* $A \\in \\mathbb{R}^{n\\times n}$ where $n >= 3$의 역행렬은 가우스 소거법(Gaussian elimination)을 이용해 계산"
   ]
  },
  {
   "cell_type": "code",
   "execution_count": 3,
   "metadata": {},
   "outputs": [
    {
     "name": "stdout",
     "output_type": "stream",
     "text": [
      "[[ 0.69230769  1.30769231 -2.15384615]\n",
      " [-0.23076923 -0.76923077  1.38461538]\n",
      " [-0.15384615  0.15384615 -0.07692308]]\n"
     ]
    }
   ],
   "source": [
    "A = np.array([[2,3,-2], [3,5,6], [2,4,3]])\n",
    "print(np.linalg.inv(A))"
   ]
  },
  {
   "cell_type": "markdown",
   "metadata": {},
   "source": [
    "## 2.1.5. 역행렬을 이용한 선형시스템 해 도출\n",
    "$$\\mathbf{A}\\mathbf{x} = \\mathbf{b}$$\n",
    "$$\\mathbf{A}^{-1}\\mathbf{A}\\mathbf{x} = \\mathbf{A}^{-1}\\mathbf{b}$$\n",
    "$$I_n\\mathbf{x} = \\mathbf{A}^{-1}\\mathbf{b}$$\n",
    "$$\\mathbf{x} = \\mathbf{A}^{-1}\\mathbf{b}$$"
   ]
  },
  {
   "cell_type": "code",
   "execution_count": 4,
   "metadata": {},
   "outputs": [
    {
     "name": "stdout",
     "output_type": "stream",
     "text": [
      "[[-2.84615385]\n",
      " [ 1.61538462]\n",
      " [ 2.07692308]]\n"
     ]
    }
   ],
   "source": [
    "A = np.array([[2,3,-2], [3,5,6], [2,4,3]])\n",
    "b = np.array([[-5], [12], [7]])\n",
    "Ainv = np.linalg.inv(A)\n",
    "x = np.dot(Ainv, b)\n",
    "print(x)"
   ]
  },
  {
   "cell_type": "code",
   "execution_count": 5,
   "metadata": {},
   "outputs": [
    {
     "name": "stdout",
     "output_type": "stream",
     "text": [
      "[[-2.84615385]\n",
      " [ 1.61538462]\n",
      " [ 2.07692308]]\n"
     ]
    }
   ],
   "source": [
    "print(np.linalg.solve(A, b))"
   ]
  },
  {
   "cell_type": "markdown",
   "metadata": {},
   "source": [
    "## 2.1.6. 역행렬이 존재하지 않는 경우\n",
    "* $A$의 역행렬이 존재하는 경우($A$가 가역행렬(invertible matrix))\n",
    "    * 해(solution)은 $\\mathbf{x} = \\mathbf{A}^{-1}\\mathbf{b}$로 유일하게 존재\n",
    "\n",
    "* $A$의 역행렬이 존재하지 않는 경우($A$가 특이행렬(singular matrix))\n",
    "    * $det A = 0(det A = ad-bc, A \\in \\mathbb{R}^{2\\times2})$인 경우, $A$의 역행렬이 존재하지 않음\n",
    "    * $det A = 0$이면, $\\mathbf{A}\\mathbf{x} = \\mathbf{b}$의 해가 무수히 많거나(infinitely many solutions) 해가 없음(no solution)\n",
    "    "
   ]
  },
  {
   "cell_type": "markdown",
   "metadata": {},
   "source": [
    "## 2.1.7. Rectangular Matrix의 경우\n",
    "* $A \\in \\mathbb{R}^{m \\times n}$, $m < n$ : variables이 equations보다 많은 경우, 일반적으로 해가 무수히 많음(under-determined system)\n",
    "* $A \\in \\mathbb{R}^{m \\times n}$, $m > n$ : variables이 equations보다 적은 경우, 일반적으로 해가 없음(over-determined system)\n",
    "* 가장 근사적으로 만족시키는 해를 구하는 것은 가능(e.g. regularization, least squares)"
   ]
  }
 ],
 "metadata": {
  "kernelspec": {
   "display_name": "Python 3",
   "language": "python",
   "name": "python3"
  },
  "language_info": {
   "codemirror_mode": {
    "name": "ipython",
    "version": 3
   },
   "file_extension": ".py",
   "mimetype": "text/x-python",
   "name": "python",
   "nbconvert_exporter": "python",
   "pygments_lexer": "ipython3",
   "version": "3.6.4"
  }
 },
 "nbformat": 4,
 "nbformat_minor": 2
}
