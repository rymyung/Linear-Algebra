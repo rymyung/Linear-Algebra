{
 "cells": [
  {
   "cell_type": "markdown",
   "metadata": {},
   "source": [
    "# Chapter 2.2 선형 결합\n",
    "* 선형결합(Linear Combination)\n",
    "* 생성(Span)\n",
    "* 행렬의 곱셈"
   ]
  },
  {
   "cell_type": "markdown",
   "metadata": {},
   "source": [
    "# 2.2.1 선형 결합(Linear Combination)\n",
    "선형결합이란, 주어진 벡터들 $v_1, v_2, \\cdots, v_p \\in \\mathbb{R}^n$에 상수(스칼라들 $c_1, c_2, \\cdots, c_p$)배를 해서 더해주는 형태로, $c_1v_1 + c_2v_2 + \\cdots + c_pv_p$를 $v_1, v_2, \\cdots, v_p$의 선형결합이라고 한다. 이 때 $c_1, c_2, \\cdots, c_p$를 가중치(weight) 혹은 계수(coefficient)이라고 하고, 선형 결합의 가중치들은 일반적으로 0을 포함한 실수만을 다룬다."
   ]
  },
  {
   "cell_type": "markdown",
   "metadata": {},
   "source": [
    "선형 결합을 이용해서 linear system의 matrix equation을 vector equation으로 변환할 수가 있다.\n",
    "$$\\begin{bmatrix} 60 & 5.5 & 1 \\\\ 65 & 5.0 & 0 \\\\ 55 & 6.0 & 1 \\end{bmatrix}\\begin{bmatrix} x_1 \\\\ x_2 \\\\ x_3 \\end{bmatrix} = \\begin{bmatrix} 66 \\\\ 74 \\\\ 78 \\end{bmatrix}$$\n",
    "$$\\mathbf{A} \\mathbf{x} = \\mathbf{b}$$\n",
    "$$\\Downarrow$$\n",
    "$$\\begin{bmatrix} 60 \\\\ 65 \\\\ 55 \\end{bmatrix}x_1 + \\begin{bmatrix} 5.5 \\\\ 5.0 \\\\ 6.0 \\end{bmatrix}x_1 + \\begin{bmatrix} 1 \\\\ 0 \\\\ 1 \\end{bmatrix}x_1 = \\begin{bmatrix} 66 \\\\ 74 \\\\ 78 \\end{bmatrix}$$\n",
    "$$a_1x_1 + a_2x_2 + a_3x_3 = b$$"
   ]
  },
  {
   "cell_type": "markdown",
   "metadata": {},
   "source": [
    "# 2.2.2 생성(Span)\n",
    " $Span\\{v_1, v_2, \\cdots, v_p\\}$이란, 벡터들 $v_1, v_2, \\cdots, v_p \\in \\mathbb{R}^n$가 주어졌을 때, $v_1, v_2, \\cdots, v_p$의 모든 선형 결합의 집합으로 정의할 수 있다. 즉, $Span\\{v_1, v_2, \\cdots, v_p\\}$은 임의의 scalars $c_1, c_2, \\cdots, c_p$를 가지고 $c_1v_1 + c_2v_2 + \\cdots + c_pv_p$로 표현될 수 있는 가능한 모든 벡터들의 집합이라고 할 수 있다. 또한 $v_1, v_2, \\cdots, v_p$에 의해 생성된 $\\mathbb{R}^n$의 부분 집합이라고 할 수 있음"
   ]
  },
  {
   "cell_type": "markdown",
   "metadata": {},
   "source": [
    "## 2.2.2.1 Span의 기하학적 의미\n",
    "* 예시 :\n",
    "![Span예시](https://www.dropbox.com/s/fgxicws9hjo16wl/span.jpg?raw=1)\n",
    "    $v_1 = \\begin{bmatrix} a \\\\ b \\\\ c \\end{bmatrix}$와 $v_2 = \\begin{bmatrix} x \\\\ y \\\\ z \\end{bmatrix}$가 주어졌을 때, $v_1$과 $v_2$로 만들어질 수 있는 평면에 있는 모든 점들의 집합이 $Span\\{v_1, v_2\\}$이다.  \n",
    "즉, $v_1, v_2 \\in \\mathbb{R}^n$가 non-zero 벡터이고 $v_2$가 $v_1$의 곱이 아닌 경우, $Span\\{v_1, v_2\\}$은 $v_1,v_2, 0$을 가진 $\\mathbb{R}^n$ 상의 평면($\\mathbb{R}^n$의 부분 집합)이다."
   ]
  },
  {
   "cell_type": "markdown",
   "metadata": {},
   "source": [
    "# 2.2.3 Vector Equation의 Solution\n",
    "다음의 방정식에 해가 존재할까?\n",
    "$$\\begin{bmatrix} 60 \\\\ 65 \\\\ 55 \\end{bmatrix}x_1 + \\begin{bmatrix} 5.5 \\\\ 5.0 \\\\ 6.0 \\end{bmatrix}x_1 + \\begin{bmatrix} 1 \\\\ 0 \\\\ 1 \\end{bmatrix}x_1 = \\begin{bmatrix} 66 \\\\ 74 \\\\ 78 \\end{bmatrix}$$\n",
    "$$a_1x_1 + a_2x_2 + a_3x_3 = b$$"
   ]
  },
  {
   "cell_type": "markdown",
   "metadata": {},
   "source": [
    "좌측의 식은 $a_1, a_2, a_3$ 벡터들의 선형 결합이 된다. 선형 결합의 계수 $x_1, x_2, x_3$를 잘 조절해서 주어진 벡터 $b$를 만족하도록 하면, 계수 $x_1, x_2, x_3$는 이 방정식의 해가 된다. 즉, $a_1, a_2, a_3$ 3개의 벡터에 의해 만들어진 $Span\\{a_1, a_2, a_3\\}$ 안에 $b = \\begin{bmatrix} 66 \\\\ 74 \\\\ 78 \\end{bmatrix}$가 포함되어 있다면, $b$를 $a_1, a_2, a_3$의 선형 결합으로 나타낼 수 있다. 따라서 $b \\in Span\\{a_1, a_2, a_3\\}$인 경우에 해가 존재한다."
   ]
  },
  {
   "cell_type": "markdown",
   "metadata": {},
   "source": [
    "## 2.2.3.1 방정식과 미지수의 관점\n",
    "* 미지수(varible)의 갯수 : 주어진 벡터의 수, # of $\\{v_1, v_2, \\cdots \\}$  \n",
    "* 방정식(equation)의 갯수 : 주어진 벡터가 존재하는 전체 집합(공간)의 차원, $\\mathbb{R}^n$  \n",
    "\n",
    "방정식의 갯수가 많다는 것은, 주어진 벡터가 존재하는 전체 집합(공간)의 차원이 매우 크다는 것을 의미하고, 미지수의 갯수가 적다는 것은 Span을 하는데 사용되는 벡터들 $\\{v_1, v_2, \\cdots \\}$은의 수가 적어 전체 집합(공간)의 차원에 비해서 몇 개 안되는 것을 의미한다."
   ]
  },
  {
   "cell_type": "markdown",
   "metadata": {},
   "source": [
    "$$ v_1 \\cdot x_1 + v_2 \\cdot x_2 = b $$\n",
    "$$ v_1, v_2 \\in \\mathbb{R}^{10}$$\n",
    "예를 들어, 10차원의 공간($\\mathbb{R}^{10}$)에서 주어진 벡터들이 2개($\\{v_1, v_2\\}$)가 있다면, $Span\\{v_1, v_2\\}$ 부분 공간은 전체 공간에 비해 매우 작은 공간이 된다. 그 때 $b$가 Span된 매우 작은 부분 공간 안에 속해야 해가 존재하는데, 미지수의 갯수가 방정식의 갯수보다 매우 적은 경우에는 해가 존재할 가능성이 매우 낮게 된다."
   ]
  },
  {
   "cell_type": "markdown",
   "metadata": {},
   "source": [
    "# 2.2.4 행렬의 곱셈\n",
    "왼쪽 행렬의 row와 오른쪽 행렬의 column 간의 내적(inner product)로 행렬의 곱을 정의했었다.  \n",
    "예를 들어,$$\\begin{bmatrix} 1 & 6 \\\\ 3 & 4 \\\\ 5 & 2 \\end{bmatrix} \\begin{bmatrix} 1 & -1 \\\\ 2 & 1 \\end{bmatrix} = \\begin{bmatrix} 13 & 5 \\\\ 11 & 1 \\\\ 9 & -3 \\end{bmatrix}$$의 경우, 총 6번의 내적을 따로따로 해야한다."
   ]
  },
  {
   "cell_type": "markdown",
   "metadata": {},
   "source": [
    "이러한 방법 대신, 한 번에 계산할 수 있는 관점이 있다. $Ax$를 왼쪽 행렬의 column vector들의 선형 결합으로 보는 관점이다.\n",
    "* matrix by vector : $$\\begin{bmatrix} 1 & 1 & 0 \\\\ 1 & 0 & 1 \\\\ 1 & -1 & 1 \\end{bmatrix} \\begin{bmatrix} 1 \\\\ 2\\\\ 3 \\end{bmatrix} = \\begin{bmatrix} 1 \\\\ 1\\\\ 1 \\end{bmatrix}1 + \\begin{bmatrix} 1 \\\\ 0 \\\\ -1 \\end{bmatrix}2 + \\begin{bmatrix} 0 \\\\ 1 \\\\ 1 \\end{bmatrix}3$$"
   ]
  },
  {
   "cell_type": "markdown",
   "metadata": {},
   "source": [
    "* matrix by matrix : $$\\begin{bmatrix} 1 & 1 & 0 \\\\ 1 & 0 & 1 \\\\ 1 & -1 & 1 \\end{bmatrix} \\begin{bmatrix} 1 & -1 \\\\ 2 & 0 \\\\ 3 & 1 \\end{bmatrix} = \\begin{bmatrix} x_1 & y_1 \\\\ x_2 & y_2 \\\\ x_3 & y_3 \\end{bmatrix} = \\begin{bmatrix} x & y \\end{bmatrix}$$ 오른쪽 첫번째 column vector($\\begin{bmatrix} 1 \\\\ 2 \\\\ 3 \\end{bmatrix}$)은 $y$에 영향을 미치지 않고 오른쪽 두번째 column vector($ \\begin{bmatrix} -1 \\\\ 0 \\\\ 1 \\end{bmatrix}$)는 $x$에 영향을 미치지 않는다.\n",
    "따라서, \n",
    "$$x =  \\begin{bmatrix} x_1 \\\\ x_2 \\\\ x_3 \\end{bmatrix} =  \\begin{bmatrix} 1 \\\\ 1 \\\\ 1 \\end{bmatrix}1 +  \\begin{bmatrix} 1 \\\\ 0 \\\\ -1 \\end{bmatrix}2 +  \\begin{bmatrix} 0 \\\\ 1 \\\\ 1 \\end{bmatrix}3$$ \n",
    "$$y =  \\begin{bmatrix} y_1 \\\\ y_2 \\\\ y_3 \\end{bmatrix} =  \\begin{bmatrix} 1 \\\\ 1 \\\\ 1 \\end{bmatrix}(-1) +  \\begin{bmatrix} 1 \\\\ 0 \\\\ -1 \\end{bmatrix} 0 +  \\begin{bmatrix} 0 \\\\ 1 \\\\ 1 \\end{bmatrix}1$$\n",
    "와 같이 나타낼 수 있다. 결국 $x$와 $y$는 왼쪽 행렬의 column vector들의 span에 무조건 포함되게 된다."
   ]
  }
 ],
 "metadata": {
  "kernelspec": {
   "display_name": "Python 3",
   "language": "python",
   "name": "python3"
  },
  "language_info": {
   "codemirror_mode": {
    "name": "ipython",
    "version": 3
   },
   "file_extension": ".py",
   "mimetype": "text/x-python",
   "name": "python",
   "nbconvert_exporter": "python",
   "pygments_lexer": "ipython3",
   "version": "3.6.4"
  }
 },
 "nbformat": 4,
 "nbformat_minor": 2
}
