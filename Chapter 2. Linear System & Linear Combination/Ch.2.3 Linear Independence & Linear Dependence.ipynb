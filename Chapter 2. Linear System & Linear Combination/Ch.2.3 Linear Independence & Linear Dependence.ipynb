{
 "cells": [
  {
   "cell_type": "markdown",
   "metadata": {},
   "source": [
    "# Chapter 2.3 선형 독립과 선형 종속"
   ]
  },
  {
   "cell_type": "markdown",
   "metadata": {},
   "source": [
    "$a_1x_1 + a_2x_2 + a_3x_3 = b$의 해가 존재할 때, $a_1, a_2, a_3$가 선형 독립이라면 유일한 해가 존재하고 선형 종속이라면 해가 무수히 많이 존재한다."
   ]
  },
  {
   "cell_type": "markdown",
   "metadata": {},
   "source": [
    "## 2.3.1 Practical Definition\n",
    "$v_1, v_2, \\cdots, v_p \\in \\mathbb{R}^n$가 주어졌을 때,  \n",
    "$v_j$가 이전의 벡터들 $\\{v_1, v_2, \\cdots, v_{j-1}\\} \\text{ for }j = 1, \\cdots, p$의 선형 결합으로 표현 가능한지를 확인하여\n",
    "* 적어도 하나의 $v_j$가 있다면 $\\{v_1, v_2, \\cdots, v_p\\}$는 선형 종속,\n",
    "* $v_j$가 하나도 없다면 $\\{v_1, v_2, \\cdots, v_p\\}$는 선형 독립이다.\n",
    "$$\\{v_1, v_2, \\cdots, v_p \\} \\begin{cases} \\text{linear dependence}, \\text{ if } v_j \\in Span\\{v_1, v_2, \\cdots, v_p\\} \\text{ for some } j = 1, \\cdots, p \\\\ \\text{Linear Independence}, \\text{ if } v_j \\notin Span\\{v_1, v_2, \\cdots, v_p\\} \\text{ for some } j = 1, \\cdots, p \\end{cases}$$"
   ]
  },
  {
   "cell_type": "markdown",
   "metadata": {},
   "source": [
    "선형 종속인 벡터는 span을 증가시킬 수 없다.\n",
    "$$\\text{If } v_3 \\in Span\\{v_1, v_2\\} \\rightarrow Span\\{v_1, v_2\\} = Span\\{v_1, v_2, v_3\\}$$"
   ]
  },
  {
   "cell_type": "markdown",
   "metadata": {},
   "source": [
    "## 2.3.2 Formal Definition\n",
    "$x_1v_1 + x_1v_2 + \\cdots + x_pv_p = \\mathbf{0}$를 고려해보자. 이 경우에 $\\mathbf{0}$ 벡터는 항상 $Span\\{v_1, v_2, \\cdots, v_p\\}$에 무조건 포함되어 있다.  \n",
    "즉, 이 방정식은 최소한 하나의 해($x = \\begin{bmatrix} x_1 \\\\ x_2 \\\\ \\vdots \\\\ x_p \\end{bmatrix} = \\begin{bmatrix} 0 \\\\ 0 \\\\ \\vdots \\\\ 0 \\end{bmatrix}$, trivial solution)를 가지고 있다.  \n",
    "* 이 trivial solution이 유일한 해이면, $v_1, v_2, \\cdots, v_p$는 선형 독립,  \n",
    "* 이 trivial solution이 유일한 해가 아니면, $v_1, v_2, \\cdots, v_p$는 선형 종속이다."
   ]
  }
 ],
 "metadata": {
  "kernelspec": {
   "display_name": "Python 3",
   "language": "python",
   "name": "python3"
  },
  "language_info": {
   "codemirror_mode": {
    "name": "ipython",
    "version": 3
   },
   "file_extension": ".py",
   "mimetype": "text/x-python",
   "name": "python",
   "nbconvert_exporter": "python",
   "pygments_lexer": "ipython3",
   "version": "3.6.4"
  }
 },
 "nbformat": 4,
 "nbformat_minor": 2
}
