{
 "cells": [
  {
   "cell_type": "markdown",
   "metadata": {},
   "source": [
    "# Chapter 2.4 부분 공간의 기저와 차원"
   ]
  },
  {
   "cell_type": "markdown",
   "metadata": {},
   "source": [
    "## 2.4.1 부분 공간(Subspace)\n",
    "벡터 공간 $V$의 부분 집합인 $H$는 다음을 만족할 때 부분 공간이라고 한다.\n",
    "* 임의의 두 벡터 $u_1, u_2 \\in H$,\n",
    "* 임의의 스칼라 $c, d$에 대해 $c \\cdot u_1 + d \\cdot u_2 \\in H$  \n",
    "\n",
    "위 2개의 조건을 만족할 때, '선형 결합에 닫혀있다'(closed under linear combination)라고 한다."
   ]
  },
  {
   "cell_type": "markdown",
   "metadata": {},
   "source": [
    "$Span\\{v_1, v_2, \\cdots, v_p\\}$는 항상 선형 결합에 닫혀있다. \n",
    "* $u_1 = a_1v_1 + a_2v_2 + \\cdots + a_pv_p$\n",
    "* $c \\cdot u_1 + d \\cdot u_2 = c(a_1v_1 + \\cdots + a_pv_p) + d(b_1v_1 + \\cdots | d_pb_p) = (c \\cdot a_1 + d \\cdot b_1)v_1 + \\cdots + (c \\cdot a_p + d \\cdot b_p)v_p$\n",
    "\n",
    "따라서 $Span\\{v_1, v_2, \\cdots, v_p\\}$은 항상 부분 공간이고, 부분 공간은 결국 벡터들의 $Span$으로 나타내질 수 있다."
   ]
  },
  {
   "cell_type": "markdown",
   "metadata": {},
   "source": [
    "## 2.4.2 기저(Basis)\n",
    "부분 공간 $H$의 기저 벡터란, 다음을 만족하는 벡터들의 집합이다.\n",
    "* 부분 공간 $H$를 완전히 생성(Span)\n",
    "* 선형 독립\n",
    "\n",
    "예를 들어, $H = Span\\{v_1, v_2, v_3\\}일 때,$\n",
    "$\\{v_1, v_2\\}$가 선형 독립이고 $v_3 = 2 \\cdot v_1 + 3 \\cdot v_2 \\in Span\\{v_1, v_2\\}$한다면, $\\{v_1, v_2\\}$가 $H$의 기저가 된다."
   ]
  },
  {
   "cell_type": "markdown",
   "metadata": {},
   "source": [
    "### 2.4.2.1 기저의 유일성\n",
    "부분 공간 $H$의 기저 벡터는 unique하지 않을 수 있다.\n"
   ]
  },
  {
   "cell_type": "markdown",
   "metadata": {},
   "source": [
    "## 2.4.3 차원(Dimension)\n",
    "차원이란, 부분 공간 $H$의 기저 벡터의 수이다. 따라서 기저벡터가 바뀌더라도 부분 공간의 차원은 변하지 않는다."
   ]
  },
  {
   "cell_type": "markdown",
   "metadata": {},
   "source": [
    "3차원의 경우,\n",
    "$\\text{standard basis} = \\begin{bmatrix} 1 \\\\ 0 \\\\ 0 \\end{bmatrix}, \\begin{bmatrix} 0 \\\\ 1 \\\\ 0 \\end{bmatrix}, \\begin{bmatrix} 0 \\\\ 0 \\\\ 1 \\end{bmatrix}$"
   ]
  },
  {
   "cell_type": "markdown",
   "metadata": {},
   "source": [
    "## 2.4.4 열 공간(Column Space)\n",
    "행렬의 열 공간이란, 열들의 Span으로 이루어지는 공간이다.\n",
    "예를 들어, $$A = \\begin{bmatrix} 1 & 1 & 2 \\\\ 1 & 0 & 1 \\\\ 0 & 1 & 1 \\end{bmatrix}, \\begin{bmatrix} 2 \\\\ 1 \\\\ 1 \\end{bmatrix} = \\begin{bmatrix} 1 \\\\ 1 \\\\ 0 \\end{bmatrix} + \\begin{bmatrix} 1 \\\\ 0 \\\\ 1 \\end{bmatrix}$$\n",
    "$$Col \\text{ } A = Span\\{\\begin{bmatrix} 1 \\\\ 1 \\\\ 0 \\end{bmatrix},\\begin{bmatrix} 1 \\\\ 0 \\\\ 1 \\end{bmatrix}, \\begin{bmatrix} 2 \\\\ 1 \\\\ 1 \\end{bmatrix}\\} \\rightarrow Col \\text{ } A = Span\\{\\begin{bmatrix} 1 \\\\ 1 \\\\ 0 \\end{bmatrix}, \\begin{bmatrix} 1 \\\\ 0 \\\\ 1 \\end{bmatrix} \\}$$\n",
    "따라서 행렬 A의 차원은 2가 된다."
   ]
  },
  {
   "cell_type": "markdown",
   "metadata": {},
   "source": [
    "## 2.4.5 Rank\n",
    "행렬 A의 랭크란($rank A$), A의 열 공간의 차원이다.\n",
    "* $rank \\text{ } A = dim \\text{ } Col \\text{ } A$  \n",
    "\n",
    "예를 들어, $Span\\{v_1, v_2, v_3\\} = Span\\{v_1\\}$인 경우\n",
    "\n",
    "행렬의 rank가 column수보다 작다는 것은 linearly dependent한 column이 존재한다는 것! 그 말은 linearly dependent한 column이 주는 정보가 별로 없다는 것! 왜냐면 키에 비례해서 몸무게에 비례하기 때문(그래서 몸무게 칼럼은 필요없음)"
   ]
  },
  {
   "cell_type": "markdown",
   "metadata": {},
   "source": []
  },
  {
   "cell_type": "markdown",
   "metadata": {},
   "source": []
  },
  {
   "cell_type": "markdown",
   "metadata": {},
   "source": []
  },
  {
   "cell_type": "markdown",
   "metadata": {},
   "source": []
  },
  {
   "cell_type": "markdown",
   "metadata": {},
   "source": []
  }
 ],
 "metadata": {
  "kernelspec": {
   "display_name": "Python 3",
   "language": "python",
   "name": "python3"
  },
  "language_info": {
   "codemirror_mode": {
    "name": "ipython",
    "version": 3
   },
   "file_extension": ".py",
   "mimetype": "text/x-python",
   "name": "python",
   "nbconvert_exporter": "python",
   "pygments_lexer": "ipython3",
   "version": "3.6.4"
  }
 },
 "nbformat": 4,
 "nbformat_minor": 2
}
