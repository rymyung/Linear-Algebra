{
 "cells": [
  {
   "cell_type": "markdown",
   "metadata": {},
   "source": [
    "# Chapter 1. Basic for Linear Algebra"
   ]
  },
  {
   "cell_type": "code",
   "execution_count": 2,
   "metadata": {},
   "outputs": [],
   "source": [
    "import numpy as np"
   ]
  },
  {
   "cell_type": "markdown",
   "metadata": {},
   "source": [
    "## 1.1. Scalar"
   ]
  },
  {
   "cell_type": "markdown",
   "metadata": {},
   "source": [
    "**Scalar** : a single number, e.g., $3.8$"
   ]
  },
  {
   "cell_type": "code",
   "execution_count": 2,
   "metadata": {},
   "outputs": [
    {
     "name": "stdout",
     "output_type": "stream",
     "text": [
      "Example of scalar :  3.8\n"
     ]
    }
   ],
   "source": [
    "scalar = 3.8\n",
    "print(\"Example of scalar : \", scalar)"
   ]
  },
  {
   "cell_type": "markdown",
   "metadata": {},
   "source": [
    "## 1.2. Vector\n",
    "**Vector** : an ordered list of numbers, e.g., $x = \\begin{bmatrix} x_1 \\\\ x_2 \\\\ \\vdots \\\\ x_n \\end{bmatrix} \\in \\mathbb{R}^n$"
   ]
  },
  {
   "cell_type": "code",
   "execution_count": 6,
   "metadata": {},
   "outputs": [
    {
     "name": "stdout",
     "output_type": "stream",
     "text": [
      "Example of vector : [[1 2 3]]\n",
      "Shape of vector : (1, 3)\n"
     ]
    }
   ],
   "source": [
    "vector = np.array([[1, 2, 3]])\n",
    "print(\"Example of vector :\", vector)\n",
    "print(\"Shape of vector :\", vector.shape)"
   ]
  },
  {
   "cell_type": "markdown",
   "metadata": {},
   "source": [
    "* Column vector : a vector of *n*-dimension is usually a column vector, i.e., a matrix of the size $n \\times 1$  \n",
    "$$x = \\begin{bmatrix} x_1 \\\\ x_2 \\\\ \\vdots \\\\ x_n \\end{bmatrix} \\in \\mathbb{R}^n = \\mathbb{R}^{n\\times1}$$\n",
    "* Row vector : a row vector is usually written as its transpose, i.e.,  \n",
    "$$x^T = {\\begin{bmatrix} x_1 \\\\ x_2 \\\\ \\vdots \\\\ x_n \\end{bmatrix}}^T = \\begin{bmatrix} x_1 & x_2 & \\cdots & x_n \\end{bmatrix} \\in \\mathbb{R}^{1\\times n}$$  \n"
   ]
  },
  {
   "cell_type": "code",
   "execution_count": 8,
   "metadata": {},
   "outputs": [
    {
     "name": "stdout",
     "output_type": "stream",
     "text": [
      "Column vector :\n",
      " [[1]\n",
      " [2]\n",
      " [3]]\n",
      "Dimension of column vector : (3, 1)\n"
     ]
    }
   ],
   "source": [
    "column_vector = np.array([[1], [2], [3]])\n",
    "print(\"Column vector :\\n\", column_vector)\n",
    "print(\"Dimension of column vector :\", column_vector.shape)"
   ]
  },
  {
   "cell_type": "code",
   "execution_count": 10,
   "metadata": {},
   "outputs": [
    {
     "name": "stdout",
     "output_type": "stream",
     "text": [
      "Row vector :\n",
      " [[1 2 3]]\n",
      "Dimension of column vector : (1, 3)\n"
     ]
    }
   ],
   "source": [
    "print(\"Row vector :\\n\", column_vector.T)\n",
    "print(\"Dimension of column vector :\", column_vector.T.shape)"
   ]
  },
  {
   "cell_type": "markdown",
   "metadata": {},
   "source": [
    "## 1.3. Matrix\n",
    "**Matrix** : a two-dimensional array of numbers"
   ]
  },
  {
   "cell_type": "markdown",
   "metadata": {},
   "source": [
    "* $A \\in \\mathbb{R}^{n\\times n}$ : Square matrix (# of rows = # of columns)  \n",
    "$$A = \\begin{bmatrix} 1 & 6 \\\\ 3 & 4 \\end{bmatrix}$$"
   ]
  },
  {
   "cell_type": "code",
   "execution_count": 4,
   "metadata": {},
   "outputs": [
    {
     "name": "stdout",
     "output_type": "stream",
     "text": [
      "Example of square matrix :\n",
      " [[1 6]\n",
      " [3 4]]\n",
      "Dimension of square matrix : (2, 2)\n"
     ]
    }
   ],
   "source": [
    "square_matrix = np.array([[1,6], [3,4]])\n",
    "print(\"Example of square matrix :\\n\" ,square_matrix)\n",
    "print(\"Dimension of square matrix :\" ,square_matrix.shape)"
   ]
  },
  {
   "cell_type": "markdown",
   "metadata": {},
   "source": [
    "* $A \\in \\mathbb{R}^{m\\times n}$ : Rectangular matrix (possible : \\# of rows $\\ne$ \\# of columns)  \n",
    "$$A = \\begin{bmatrix} 1 & 6 \\\\ 3 & 4 \\\\ 5 & 2 \\end{bmatrix}$$"
   ]
  },
  {
   "cell_type": "code",
   "execution_count": 3,
   "metadata": {
    "scrolled": true
   },
   "outputs": [
    {
     "name": "stdout",
     "output_type": "stream",
     "text": [
      "Example of rectangular matrix :\n",
      " [[1 6]\n",
      " [3 4]\n",
      " [5 2]]\n",
      "Dimension of rectangular matrix : (3, 2)\n"
     ]
    }
   ],
   "source": [
    "rec_matrix = np.array([[1,6], [3,4], [5,2]])\n",
    "print(\"Example of rectangular matrix :\\n\" ,rec_matrix)\n",
    "print(\"Dimension of rectangular matrix :\" ,rec_matrix.shape)"
   ]
  },
  {
   "cell_type": "markdown",
   "metadata": {},
   "source": [
    "* $A^T$ : Transpose of matrix (mirroring across the main diagonal)  \n",
    "$$A^T = \\begin{bmatrix} 1 & 3 & 5 \\\\ 6 & 4 & 2 \\end{bmatrix}$$"
   ]
  },
  {
   "cell_type": "code",
   "execution_count": 6,
   "metadata": {},
   "outputs": [
    {
     "name": "stdout",
     "output_type": "stream",
     "text": [
      "Example of transpose matrix :\n",
      " [[1 3 5]\n",
      " [6 4 2]]\n",
      "Dimension of transpose matrix : (2, 3)\n"
     ]
    }
   ],
   "source": [
    "tran_matrix = rec_matrix.transpose()\n",
    "print(\"Example of transpose matrix :\\n\" ,tran_matrix)\n",
    "print(\"Dimension of transpose matrix :\" ,tran_matrix.shape)"
   ]
  },
  {
   "cell_type": "markdown",
   "metadata": {},
   "source": [
    "* $A_{ij}$ : (i, j)-th component of A, e.g. $A_{2,1}$ = 3"
   ]
  },
  {
   "cell_type": "code",
   "execution_count": 4,
   "metadata": {
    "scrolled": true
   },
   "outputs": [
    {
     "name": "stdout",
     "output_type": "stream",
     "text": [
      "3\n"
     ]
    }
   ],
   "source": [
    "print(rec_matrix[1, 0])"
   ]
  },
  {
   "cell_type": "markdown",
   "metadata": {},
   "source": [
    "* $A_{i,}$ : i-th row vector of A, e.g. $A_{2,}$ = [3, 4]"
   ]
  },
  {
   "cell_type": "code",
   "execution_count": 5,
   "metadata": {},
   "outputs": [
    {
     "name": "stdout",
     "output_type": "stream",
     "text": [
      "[3 4]\n"
     ]
    }
   ],
   "source": [
    "print(rec_matrix[1])"
   ]
  },
  {
   "cell_type": "markdown",
   "metadata": {},
   "source": [
    "* $A_{,j}$ : j-th column vector of A, e.g. $A_{,2}$ = [6,4,2]"
   ]
  },
  {
   "cell_type": "code",
   "execution_count": 6,
   "metadata": {},
   "outputs": [
    {
     "name": "stdout",
     "output_type": "stream",
     "text": [
      "[6 4 2]\n"
     ]
    }
   ],
   "source": [
    "print(rec_matrix[:,1])"
   ]
  },
  {
   "cell_type": "markdown",
   "metadata": {},
   "source": [
    "## 1.4. Vector/Matrix Additions and Multiplications"
   ]
  },
  {
   "cell_type": "markdown",
   "metadata": {},
   "source": [
    "* $ C = A + B $ : Element-wise addition, i.e., $C_{i,j} = A_{i,j} + B_{i,j}$\n",
    "    * A, B should have the same size , i.e., $A, B \\in \\mathbb{R}^{mxn}$  \n",
    "$$\\begin{bmatrix} 1 \\\\ 2 \\\\ 3 \\end{bmatrix} + \\begin{bmatrix} 4 \\\\ 5 \\\\ 6 \\end{bmatrix} = \\begin{bmatrix} 5 \\\\ 7 \\\\ 9 \\end{bmatrix}$$"
   ]
  },
  {
   "cell_type": "code",
   "execution_count": 3,
   "metadata": {},
   "outputs": [
    {
     "name": "stdout",
     "output_type": "stream",
     "text": [
      "[[5]\n",
      " [7]\n",
      " [9]]\n"
     ]
    }
   ],
   "source": [
    "A = np.array([[1],[2],[3]])\n",
    "B = np.array([[4],[5],[6]])\n",
    "print(A + B)"
   ]
  },
  {
   "cell_type": "markdown",
   "metadata": {},
   "source": [
    "* $ka$, $kA$ : Scalar multiple of vector/matrix  \n",
    "$$2 \\times \\begin{bmatrix} 3 \\\\ 2 \\\\ 4 \\end{bmatrix} = \\begin{bmatrix} 6 \\\\ 4 \\\\ 8 \\end{bmatrix}$$  \n",
    "$$2 \\times \\begin{bmatrix} 1 & 6 \\\\ 3 & 4 \\\\ 5 & 2 \\end{bmatrix} = \\begin{bmatrix} 2 & 12 \\\\ 6 & 8 \\\\ 10 & 4 \\end{bmatrix}$$"
   ]
  },
  {
   "cell_type": "code",
   "execution_count": 12,
   "metadata": {},
   "outputs": [
    {
     "name": "stdout",
     "output_type": "stream",
     "text": [
      "[2 4 6]\n",
      "[[ 2 12]\n",
      " [ 6  8]\n",
      " [10  4]]\n"
     ]
    }
   ],
   "source": [
    "print(2*vector)\n",
    "print(2*rec_matrix)"
   ]
  },
  {
   "cell_type": "markdown",
   "metadata": {},
   "source": [
    "* $ C = AB$ : Matrix-matrix multiplication, i.e., $C_{i,j}  = \\sum_k A_{i,k}B_{k,j}$  \n",
    "$$\\begin{bmatrix} 1 & 6 \\\\ 3 & 4 \\\\ 5 & 2 \\end{bmatrix} \\begin{bmatrix} 1 & -1 \\\\ 2 & 1 \\end{bmatrix} = \\begin{bmatrix} 13 & 5 \\\\ 11 & 1 \\\\ 9 & -3 \\end{bmatrix}$$  \n",
    "$$size : (3 \\times 2)(2 \\times 2) = 3 \\times 2 $$"
   ]
  },
  {
   "cell_type": "code",
   "execution_count": 8,
   "metadata": {},
   "outputs": [
    {
     "name": "stdout",
     "output_type": "stream",
     "text": [
      "[[13  5]\n",
      " [11  1]\n",
      " [ 9 -3]]\n"
     ]
    }
   ],
   "source": [
    "A = np.array([[1,6], [3,4], [5,2]])\n",
    "B = np.array([[1,-1], [2,1]])\n",
    "print(np.matmul(A,B)) # A.dot(B)"
   ]
  },
  {
   "cell_type": "markdown",
   "metadata": {},
   "source": [
    "## 1.5. Properties"
   ]
  },
  {
   "cell_type": "markdown",
   "metadata": {},
   "source": [
    "* $AB \\ne BA$ : ***not*** Commutative(교환법칙 성립 x)\n",
    "    * e.g., Given $A \\in \\mathbb{R}^{2\\times3}$ and $B \\in \\mathbb{R}^{3\\times5}$, $AB$ is defined, but $BA$ is not even defined\n",
    "    * Even though $BA$ is defined, e.g., $A \\in \\mathbb{R}^{2\\times3}$ and $B \\in \\mathbb{R}^{3\\times2}$, still the sizes of $AB \\in \\mathbb{R}^{2\\times2}$ and $BA \\in \\mathbb{R}^{3\\times3}$ does not match, so $AB \\ne BA$\n",
    "    * Even though the sizes of $AB$ and $BA$ match, e.g., $A \\in \\mathbb{R}^{2\\times2}$ and $B \\in \\mathbb{R}^{2\\times2}$, still in this case generally $ AB \\ne BA$  \n",
    "    $$\\begin{bmatrix} 1 & 2 \\\\ 3 & 4 \\end{bmatrix} \\begin{bmatrix} 5 & 6 \\\\ 7 & 8 \\end{bmatrix} = \\begin{bmatrix} 19 & 22 \\\\ 43 & 50 \\end{bmatrix}$$  \n",
    "    $$\\begin{bmatrix} 5 & 6 \\\\ 7 & 8 \\end{bmatrix} \\begin{bmatrix} 1 & 2 \\\\ 3 & 4 \\end{bmatrix} = \\begin{bmatrix} 23 & 34 \\\\ 31 & 46 \\end{bmatrix}$$\n",
    "* $A(B+C) = AB + BC$ : Distributive(분배법칙 o)\n",
    "* $A(BC) = (AB)C$ : Associative(결합법칙 o)\n",
    "* $(AB)^T = A^TB^T$ : Property of transpose\n",
    "* $(AB)^{-1} = A^{-1}B^{-1}$ : Property of inverse"
   ]
  },
  {
   "cell_type": "code",
   "execution_count": 9,
   "metadata": {},
   "outputs": [
    {
     "name": "stdout",
     "output_type": "stream",
     "text": [
      "[[13  5]\n",
      " [11  1]\n",
      " [ 9 -3]]\n"
     ]
    }
   ],
   "source": [
    "print(A.dot(B))"
   ]
  },
  {
   "cell_type": "code",
   "execution_count": 10,
   "metadata": {},
   "outputs": [
    {
     "ename": "ValueError",
     "evalue": "shapes (2,2) and (3,2) not aligned: 2 (dim 1) != 3 (dim 0)",
     "output_type": "error",
     "traceback": [
      "\u001b[1;31m---------------------------------------------------------------------------\u001b[0m",
      "\u001b[1;31mValueError\u001b[0m                                Traceback (most recent call last)",
      "\u001b[1;32m<ipython-input-10-01141af5e94f>\u001b[0m in \u001b[0;36m<module>\u001b[1;34m()\u001b[0m\n\u001b[1;32m----> 1\u001b[1;33m \u001b[0mprint\u001b[0m\u001b[1;33m(\u001b[0m\u001b[0mB\u001b[0m\u001b[1;33m.\u001b[0m\u001b[0mdot\u001b[0m\u001b[1;33m(\u001b[0m\u001b[0mA\u001b[0m\u001b[1;33m)\u001b[0m\u001b[1;33m)\u001b[0m \u001b[1;31m# Error\u001b[0m\u001b[1;33m\u001b[0m\u001b[0m\n\u001b[0m",
      "\u001b[1;31mValueError\u001b[0m: shapes (2,2) and (3,2) not aligned: 2 (dim 1) != 3 (dim 0)"
     ]
    }
   ],
   "source": [
    "print(B.dot(A)) # Error"
   ]
  }
 ],
 "metadata": {
  "kernelspec": {
   "display_name": "Python 3",
   "language": "python",
   "name": "python3"
  },
  "language_info": {
   "codemirror_mode": {
    "name": "ipython",
    "version": 3
   },
   "file_extension": ".py",
   "mimetype": "text/x-python",
   "name": "python",
   "nbconvert_exporter": "python",
   "pygments_lexer": "ipython3",
   "version": "3.7.1"
  }
 },
 "nbformat": 4,
 "nbformat_minor": 2
}
